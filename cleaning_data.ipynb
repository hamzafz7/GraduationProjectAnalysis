{
 "cells": [
  {
   "cell_type": "code",
   "execution_count": 4,
   "metadata": {},
   "outputs": [
    {
     "name": "stdout",
     "output_type": "stream",
     "text": [
      "Defaulting to user installation because normal site-packages is not writeable\n",
      "Requirement already satisfied: youtube-transcript-api in c:\\users\\user\\appdata\\roaming\\python\\python39\\site-packages (0.6.3)\n",
      "Requirement already satisfied: defusedxml<0.8.0,>=0.7.1 in c:\\programdata\\anaconda3\\lib\\site-packages (from youtube-transcript-api) (0.7.1)\n",
      "Requirement already satisfied: requests in c:\\users\\user\\appdata\\roaming\\python\\python39\\site-packages (from youtube-transcript-api) (2.32.3)\n",
      "Requirement already satisfied: urllib3<3,>=1.21.1 in c:\\programdata\\anaconda3\\lib\\site-packages (from requests->youtube-transcript-api) (1.26.9)\n",
      "Requirement already satisfied: certifi>=2017.4.17 in c:\\programdata\\anaconda3\\lib\\site-packages (from requests->youtube-transcript-api) (2021.10.8)\n",
      "Requirement already satisfied: idna<4,>=2.5 in c:\\programdata\\anaconda3\\lib\\site-packages (from requests->youtube-transcript-api) (3.3)\n",
      "Requirement already satisfied: charset-normalizer<4,>=2 in c:\\programdata\\anaconda3\\lib\\site-packages (from requests->youtube-transcript-api) (2.0.4)\n"
     ]
    }
   ],
   "source": [
    "! pip install youtube-transcript-api"
   ]
  },
  {
   "cell_type": "code",
   "execution_count": 1,
   "metadata": {},
   "outputs": [
    {
     "name": "stdout",
     "output_type": "stream",
     "text": [
      "                        video_title     video_id    channel_name  \\\n",
      "0  انتهاكات ومجازر في الساحل السوري  Jw0qhd3JHtc  Ahmad Fakhouri   \n",
      "1  انتهاكات ومجازر في الساحل السوري  Jw0qhd3JHtc  Ahmad Fakhouri   \n",
      "2  انتهاكات ومجازر في الساحل السوري  Jw0qhd3JHtc  Ahmad Fakhouri   \n",
      "3  انتهاكات ومجازر في الساحل السوري  Jw0qhd3JHtc  Ahmad Fakhouri   \n",
      "4  انتهاكات ومجازر في الساحل السوري  Jw0qhd3JHtc  Ahmad Fakhouri   \n",
      "\n",
      "                                          video_tags  \\\n",
      "0  أحمد الشرع, بشار الأسد, أخبار سوريا, الانتهاكا...   \n",
      "1  أحمد الشرع, بشار الأسد, أخبار سوريا, الانتهاكا...   \n",
      "2  أحمد الشرع, بشار الأسد, أخبار سوريا, الانتهاكا...   \n",
      "3  أحمد الشرع, بشار الأسد, أخبار سوريا, الانتهاكا...   \n",
      "4  أحمد الشرع, بشار الأسد, أخبار سوريا, الانتهاكا...   \n",
      "\n",
      "                                             comment  likes_on_comment  \\\n",
      "0  انا كنت أحد متابعي قناة الجزيرة و كنت اعتبرها ...               906   \n",
      "1  كلامك يحمل بين طياته تبرير للجرائم و المجازر و...               345   \n",
      "2  لعن الله كل من طمس الحقيقة واخفاها \\nرحم الله ...               359   \n",
      "3  له يا أستاذ احمد..\\nلا تبرر الانتهاكات... أغلب...               143   \n",
      "4  بسم الله الرحمن الرحيم\\nولا تحسبن الله غافلا ع...               462   \n",
      "\n",
      "   reply_count  comment_length  relevant  question  suggestion  offensive  \\\n",
      "0          121             162         0         0           0          0   \n",
      "1           14              87         1         0           0          1   \n",
      "2           17             101         1         0           0          1   \n",
      "3            7             112         1         0           0          1   \n",
      "4           21             118         0         0           0          1   \n",
      "\n",
      "  transcript  \n",
      "0       None  \n",
      "1       None  \n",
      "2       None  \n",
      "3       None  \n",
      "4       None  \n"
     ]
    }
   ],
   "source": [
    "import pandas as pd\n",
    "import json\n",
    "\n",
    "with open('C:\\\\Users\\\\User\\\\Desktop\\\\hamza2.json') as f:\n",
    "    data = json.load(f)\n",
    "\n",
    "df = pd.DataFrame(data) \n",
    "df['transcript'] = None\n",
    "\n",
    "print(df.head())"
   ]
  },
  {
   "cell_type": "code",
   "execution_count": 6,
   "metadata": {},
   "outputs": [],
   "source": [
    "from youtube_transcript_api import YouTubeTranscriptApi\n",
    "\n",
    "transcript_cache = {}\n",
    "\n",
    "def get_transcript_cached(video_id):\n",
    "    if video_id in transcript_cache:\n",
    "        return transcript_cache[video_id] \n",
    "\n",
    "    try:\n",
    "        transcript = YouTubeTranscriptApi.get_transcript(video_id, languages=['ar'])\n",
    "        text = \" \".join([segment['text'] for segment in transcript])\n",
    "        transcript_cache[video_id] = text  # Cache it\n",
    "        return text\n",
    "    except Exception:\n",
    "        transcript_cache[video_id] = None\n",
    "        return None\n"
   ]
  },
  {
   "cell_type": "code",
   "execution_count": 7,
   "metadata": {},
   "outputs": [],
   "source": [
    "for idx, row in df.iterrows():\n",
    "    if pd.isnull(row['transcript']):\n",
    "        video_id = row['video_id']\n",
    "        df.at[idx, 'transcript'] = get_transcript_cached(video_id)"
   ]
  },
  {
   "cell_type": "code",
   "execution_count": 8,
   "metadata": {},
   "outputs": [
    {
     "name": "stdout",
     "output_type": "stream",
     "text": [
      "['B_Mx4JRmGro' 'BsKX8OM0Cq4' 'yeMbo4KI8RM' 'TuO2ON3Nla0' 'a0v9cB6R9xY'\n",
      " 'qpQwbE4TpX8' 'B1aKhni0Lzg' 'LXerUX1Awmo' 'YNPCqiq1Ubk' 'AV05KzyRgiY'\n",
      " 'gPCAqEwG8us' 'ON7V2XiQFrM' '0Ro2djOERr4']\n"
     ]
    }
   ],
   "source": [
    "missing_transcripts = df[df['transcript'].isnull()]\n",
    "\n",
    "video_ids_missing = missing_transcripts['video_id'].unique()\n",
    "\n",
    "print(video_ids_missing)"
   ]
  },
  {
   "cell_type": "code",
   "execution_count": 9,
   "metadata": {},
   "outputs": [
    {
     "data": {
      "text/plain": [
       "594"
      ]
     },
     "execution_count": 9,
     "metadata": {},
     "output_type": "execute_result"
    }
   ],
   "source": [
    "df['transcript'].isna().sum()"
   ]
  }
 ],
 "metadata": {
  "kernelspec": {
   "display_name": "base",
   "language": "python",
   "name": "python3"
  },
  "language_info": {
   "codemirror_mode": {
    "name": "ipython",
    "version": 3
   },
   "file_extension": ".py",
   "mimetype": "text/x-python",
   "name": "python",
   "nbconvert_exporter": "python",
   "pygments_lexer": "ipython3",
   "version": "3.9.12"
  }
 },
 "nbformat": 4,
 "nbformat_minor": 2
}
